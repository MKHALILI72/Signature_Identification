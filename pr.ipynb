{
 "cells": [
  {
   "cell_type": "markdown",
   "metadata": {},
   "source": [
    "# Pattern Project : signature identification"
   ]
  },
  {
   "cell_type": "markdown",
   "metadata": {},
   "source": [
    "## A: Preprocessing"
   ]
  },
  {
   "cell_type": "markdown",
   "metadata": {},
   "source": [
    "### import library"
   ]
  },
  {
   "cell_type": "code",
   "execution_count": 10,
   "metadata": {},
   "outputs": [],
   "source": [
    "import os\n",
    "import cv2\n",
    "import numpy as np\n",
    "from sklearn import svm\n",
    "import matplotlib.pyplot as pt\n",
    "from skimage.feature import hog\n",
    "from skimage import data, exposure\n",
    "from skimage.morphology import thin\n",
    "from sklearn.decomposition import PCA\n",
    "from skimage.morphology import opening\n",
    "from skimage.measure import regionprops\n",
    "from sklearn.naive_bayes import GaussianNB\n",
    "from sklearn.preprocessing import MinMaxScaler\n",
    "from sklearn.neighbors import KNeighborsClassifier\n",
    "from sklearn.model_selection import train_test_split\n",
    "from sklearn.model_selection import StratifiedShuffleSplit\n",
    "from sklearn.discriminant_analysis import LinearDiscriminantAnalysis\n",
    "from sklearn.discriminant_analysis import LinearDiscriminantAnalysis as LDA"
   ]
  },
  {
   "cell_type": "code",
   "execution_count": 11,
   "metadata": {},
   "outputs": [],
   "source": [
    "# read dataset from directory and split train test data\n",
    "def readDataSet1(path):\n",
    "    labels_str_list = os.walk(path).__next__()[1]\n",
    "    Labels = list()\n",
    "    Dataset = list()\n",
    "    for el in labels_str_list:\n",
    "        sign_path = os.path.join(path,el)\n",
    "        member_sign = os.walk(sign_path).__next__()[2]\n",
    "        for ms in member_sign:\n",
    "            Dataset.append(pt.imread(os.path.join(sign_path,ms))) \n",
    "            Labels.append(int(el))        \n",
    "    return Dataset,Labels\n",
    "def readDataSet2(path,signer_count,sign_count):\n",
    "    sign_list = list()\n",
    "    label = list()\n",
    "    for n in range(1,signer_count+1):\n",
    "        for m in range(1,sign_count+1):\n",
    "            sign_list.append(pt.imread(os.path.join(path,'original_'+str(n)+\"_\"+str(m)+\".png\")))\n",
    "            label.append(n)\n",
    "    \n",
    "    return sign_list,label"
   ]
  },
  {
   "cell_type": "code",
   "execution_count": 12,
   "metadata": {},
   "outputs": [],
   "source": [
    "# transform image to binary image use treshold\n",
    "#ref:https://opencv-python-tutroals.readthedocs.io/en/latest/py_tutorials/py_imgproc/py_thresholding/py_thresholding.html\n",
    "def image_segmentation(img):\n",
    "    ret2,th2 = cv2.threshold(img,0,1,cv2.THRESH_BINARY+cv2.THRESH_OTSU)\n",
    "    th2 = np.array(th2).astype(np.uint)\n",
    "    return th2"
   ]
  },
  {
   "cell_type": "code",
   "execution_count": 13,
   "metadata": {},
   "outputs": [],
   "source": [
    "# resize image \n",
    "def image_resize(img,h,l):\n",
    "    resized_image = cv2.resize(img,(h,l))\n",
    "    return resized_image"
   ]
  },
  {
   "cell_type": "code",
   "execution_count": 14,
   "metadata": {},
   "outputs": [],
   "source": [
    "def morpho_operation(image):\n",
    "    kernel = np.ones((2,2),np.uint8)\n",
    "    opening_skimage = opening(image, kernel)\n",
    "    return opening_skimage"
   ]
  },
  {
   "cell_type": "code",
   "execution_count": 15,
   "metadata": {},
   "outputs": [],
   "source": [
    "# Class dataset\n",
    "X1,L1=readDataSet1('F:\\MSCCourse\\991\\PatternRecognition\\project\\DataSet1')\n",
    "# CEDAR dataset\n",
    "X2,L2=readDataSet2('F:\\MSCCourse\\991\\PatternRecognition\\project\\DataSet2',20,5)"
   ]
  },
  {
   "cell_type": "markdown",
   "metadata": {},
   "source": [
    "## B: Preprocessing "
   ]
  },
  {
   "cell_type": "code",
   "execution_count": 16,
   "metadata": {},
   "outputs": [],
   "source": [
    "def preprocessing(dataset):\n",
    "    n = len(dataset)\n",
    "    resized_dataset = []\n",
    "    binary_dataset = []\n",
    "    morpho_dataset = []\n",
    "    N_dataset = []\n",
    "    for i in range(n):\n",
    "        if len(np.shape(dataset[0]))==3:\n",
    "            gray_dataset = cv2.cvtColor(dataset[i], cv2.COLOR_BGR2GRAY)\n",
    "        else:\n",
    "            gray_dataset = np.array(dataset[i]*255).astype(np.uint8)\n",
    "        resized_dataset.append(image_resize(gray_dataset,200,200))\n",
    "        binary_dataset.append(image_segmentation(resized_dataset[i]))\n",
    "        morpho_dataset.append(morpho_operation(binary_dataset[i]))\n",
    "        N_dataset.append(1-morpho_dataset[i])\n",
    "    return resized_dataset,binary_dataset,morpho_dataset, N_dataset"
   ]
  },
  {
   "cell_type": "code",
   "execution_count": 17,
   "metadata": {},
   "outputs": [],
   "source": [
    "resized_dataset1,binary_dataset1,morpho_dataset1, N_dataset1=preprocessing(X1)\n",
    "resized_dataset2,binary_dataset2,morpho_dataset2, N_dataset2=preprocessing(X2)"
   ]
  },
  {
   "cell_type": "code",
   "execution_count": 18,
   "metadata": {},
   "outputs": [
    {
     "data": {
      "image/png": "[encoded data removed]",
      "text/plain": [
       "<Figure size 432x288 with 4 Axes>"
      ]
     },
     "metadata": {
      "needs_background": "light"
     },
     "output_type": "display_data"
    }
   ],
   "source": [
    "fig = pt.figure()\n",
    "pt.subplot(2, 2, 1)\n",
    "pt.imshow(resized_dataset1[49],cmap='gray')\n",
    "pt.subplot(2, 2, 2)\n",
    "pt.imshow(binary_dataset1[49],cmap='gray')\n",
    "pt.subplot(2, 2, 3)\n",
    "pt.imshow(morpho_dataset1[49],cmap='gray')\n",
    "pt.subplot(2, 2, 4)\n",
    "pt.imshow(N_dataset1[49],cmap='gray')\n",
    "pt.show()"
   ]
  },
  {
   "cell_type": "markdown",
   "metadata": {},
   "source": [
    "## C: Feature Extraction"
   ]
  },
  {
   "cell_type": "markdown",
   "metadata": {},
   "source": [
    "#### Global Feature"
   ]
  },
  {
   "cell_type": "code",
   "execution_count": 19,
   "metadata": {},
   "outputs": [],
   "source": [
    "def Area(Image):\n",
    "    H,W =np.shape(Image)\n",
    "    activepixelnumber= np.sum(Image)\n",
    "    totalpixel = H*W\n",
    "    return activepixelnumber/totalpixel"
   ]
  },
  {
   "cell_type": "code",
   "execution_count": 20,
   "metadata": {},
   "outputs": [],
   "source": [
    "def Width(Image):\n",
    "    H,W=np.shape(Image)\n",
    "    verticalpixeltotal=np.sum(Image,0)\n",
    "    for i in range(W):\n",
    "        if (verticalpixeltotal[i]>=3):\n",
    "            lower = i\n",
    "            break\n",
    "    for j in range(W-1,-1,-1):\n",
    "        if (verticalpixeltotal[j]>=3):\n",
    "            upper = j\n",
    "            break   \n",
    "    return upper -lower"
   ]
  },
  {
   "cell_type": "code",
   "execution_count": 21,
   "metadata": {},
   "outputs": [],
   "source": [
    "def Height(Image):\n",
    "    H,W=np.shape(Image)\n",
    "    horizontalpixeltotal=np.sum(Image,1)\n",
    "    for i in range(H):\n",
    "        if (horizontalpixeltotal[i]>=3):\n",
    "            lower = i\n",
    "            break\n",
    "    for j in range(H-1,-1,-1):\n",
    "        if (horizontalpixeltotal[j]>=3):\n",
    "            upper = j\n",
    "            break\n",
    "    return upper -lower"
   ]
  },
  {
   "cell_type": "code",
   "execution_count": 22,
   "metadata": {},
   "outputs": [],
   "source": [
    "def PureWidth(Image):\n",
    "    H,W=np.shape(Image)\n",
    "    verticalpixeltotal=np.sum(Image,0)\n",
    "    return max(verticalpixeltotal)"
   ]
  },
  {
   "cell_type": "code",
   "execution_count": 23,
   "metadata": {},
   "outputs": [],
   "source": [
    "def PureHeight(Image):\n",
    "    H,W=np.shape(Image)\n",
    "    horizontalpixeltotal=np.sum(Image,1)\n",
    "    return max(horizontalpixeltotal)"
   ]
  },
  {
   "cell_type": "markdown",
   "metadata": {},
   "source": [
    "#### Local Feature"
   ]
  },
  {
   "cell_type": "code",
   "execution_count": 24,
   "metadata": {},
   "outputs": [],
   "source": [
    "def CalculateCentroid(Image,hl,hu,wl,wu):\n",
    "    mysum=0\n",
    "    for i in range(hl,hu):\n",
    "        mysum += i*sum(Image[i,wl:wu])\n",
    "    htotal = mysum \n",
    "    mysum=0 \n",
    "    for i in range(wl,wu):\n",
    "        mysum += i*sum(Image[hl:hu,i])\n",
    "    vtotal = mysum\n",
    "    totalactivepixel = np.sum(Image[hl:hu,wl:wu])\n",
    "    try:\n",
    "        CY=int(np.ceil(htotal/totalactivepixel))\n",
    "        CX=int(np.ceil(vtotal/totalactivepixel))\n",
    "        return CX,CY\n",
    "    except:\n",
    "        CY=1\n",
    "        CX=1\n",
    "        return CX,CY"
   ]
  },
  {
   "cell_type": "code",
   "execution_count": 25,
   "metadata": {},
   "outputs": [],
   "source": [
    "def ExtractHVFeature(Image,hl,hu,wl,wu,n,HVstatus,l,plimage):\n",
    "    if n ==1 :  \n",
    "        CX,CY = CalculateCentroid(Image,hl,hu,wl,wu)\n",
    "        l.append(CX)\n",
    "        l.append(CY)\n",
    "        if HVstatus == True:\n",
    "            plimage[CY,wl:wu]=1\n",
    "           \n",
    "        if HVstatus ==False:\n",
    "            plimage[hl:hu,CX]=1\n",
    "        \n",
    "           \n",
    "        \n",
    "    else:\n",
    "        CX,CY = CalculateCentroid(Image,hl,hu,wl,wu)\n",
    "        l.append(CX)\n",
    "        l.append(CY)\n",
    "        \n",
    "        if HVstatus == True:\n",
    "            HVstatus = False\n",
    "            plimage[CY,wl:wu]=1\n",
    "            ExtractHVFeature(Image,hl,CY,wl,wu,n/2,HVstatus,l,plimage)\n",
    "            ExtractHVFeature(Image,CY,hu,wl,wu,n/2,HVstatus,l,plimage)\n",
    "        else:\n",
    "            HVstatus = True\n",
    "            plimage[hl:hu,CX]=1\n",
    "            ExtractHVFeature(Image,hl,hu,wl,CX,n/2,HVstatus,l,plimage)\n",
    "            ExtractHVFeature(Image,hl,hu,CX,wu,n/2,HVstatus,l,plimage)\n",
    "    "
   ]
  },
  {
   "cell_type": "code",
   "execution_count": 26,
   "metadata": {},
   "outputs": [
    {
     "data": {
      "text/plain": [
       "<matplotlib.image.AxesImage at 0x27bd59e5d90>"
      ]
     },
     "execution_count": 26,
     "metadata": {},
     "output_type": "execute_result"
    },
    {
     "data": {
      "image/png": "[encoded data removed]",
      "text/plain": [
       "<Figure size 432x288 with 1 Axes>"
      ]
     },
     "metadata": {
      "needs_background": "light"
     },
     "output_type": "display_data"
    }
   ],
   "source": [
    "h = []\n",
    "v = []\n",
    "plHimage = np.zeros((200,200))\n",
    "plVimage = np.zeros((200,200))\n",
    "ExtractHVFeature(N_dataset1[0],0,200,0,200,8,True,h,plHimage)\n",
    "ExtractHVFeature(N_dataset1[0],0,200,0,200,8,False,v,plVimage)\n",
    "pt.imshow(N_dataset1[0],cmap='gray')"
   ]
  },
  {
   "cell_type": "code",
   "execution_count": 27,
   "metadata": {},
   "outputs": [
    {
     "data": {
      "text/plain": [
       "<matplotlib.image.AxesImage at 0x27bd5a58eb0>"
      ]
     },
     "execution_count": 27,
     "metadata": {},
     "output_type": "execute_result"
    },
    {
     "data": {
      "image/png": "[encoded data removed]",
      "text/plain": [
       "<Figure size 432x288 with 1 Axes>"
      ]
     },
     "metadata": {
      "needs_background": "light"
     },
     "output_type": "display_data"
    }
   ],
   "source": [
    "pt.imshow(plHimage,cmap='gray')"
   ]
  },
  {
   "cell_type": "code",
   "execution_count": 28,
   "metadata": {},
   "outputs": [
    {
     "data": {
      "text/plain": [
       "<matplotlib.image.AxesImage at 0x27bd5a36ac0>"
      ]
     },
     "execution_count": 28,
     "metadata": {},
     "output_type": "execute_result"
    },
    {
     "data": {
      "image/png": "[encoded data removed]",
      "text/plain": [
       "<Figure size 432x288 with 1 Axes>"
      ]
     },
     "metadata": {
      "needs_background": "light"
     },
     "output_type": "display_data"
    }
   ],
   "source": [
    "pt.imshow(plVimage,cmap='gray')"
   ]
  },
  {
   "cell_type": "markdown",
   "metadata": {},
   "source": [
    "#### HOG feature"
   ]
  },
  {
   "cell_type": "code",
   "execution_count": 29,
   "metadata": {},
   "outputs": [],
   "source": [
    "def HOG(Image): \n",
    "    fd, hog_image = hog(Image, orientations=8, pixels_per_cell=(40,40\n",
    "                                                               ),\n",
    "                        cells_per_block=(5, 5), visualize=True)\n",
    "    return fd"
   ]
  },
  {
   "cell_type": "markdown",
   "metadata": {},
   "source": [
    "### combine feature"
   ]
  },
  {
   "cell_type": "code",
   "execution_count": 30,
   "metadata": {},
   "outputs": [],
   "source": [
    "# status = 1  // HOG\n",
    "# status = 2  // Global Feature\n",
    "# status = 3  // Global and local feature\n",
    "# status = 4  // local feature\n",
    "def ExtractFeature(status,N_dataset,resized_dataset):\n",
    "    FX2 = []\n",
    "    for si in range(len(N_dataset)):  \n",
    "        h = []\n",
    "        l = []\n",
    "        plHimage = np.zeros((np.shape(N_dataset[si])[0],np.shape(N_dataset[si])[1]))\n",
    "        plVimage = np.zeros((np.shape(N_dataset[si])[0],np.shape(N_dataset[si])[1]))\n",
    "        # HOG Feature\n",
    "        if status == 1:\n",
    "            hog = list(HOG(N_dataset[si]))\n",
    "            FX2.append(hog)\n",
    "        # Global Feature\n",
    "        if status == 2:\n",
    "            area = Area(N_dataset[si])\n",
    "            width = Width(N_dataset[si])\n",
    "            height = Height(N_dataset[si])\n",
    "            purewidth = PureWidth(N_dataset[si])\n",
    "            pureheight = PureHeight(N_dataset[si])\n",
    "            FX2.append([width]+[height]+[area]+[purewidth]+[pureheight])\n",
    "        # Global and local feature\n",
    "        if status == 3:\n",
    "            area = Area(N_dataset[si])\n",
    "            width = Width(N_dataset[si])\n",
    "            height = Height(N_dataset[si])\n",
    "            purewidth = PureWidth(N_dataset[si])\n",
    "            pureheight = PureHeight(N_dataset[si])\n",
    "            ExtractHVFeature(N_dataset[si],0,200,0,200,8,True,h,plHimage)\n",
    "            ExtractHVFeature(N_dataset[si],0,200,0,200,8,False,l,plVimage)\n",
    "            FX2.append(h+l+[width]+[height]+[area]+[purewidth]+[pureheight])\n",
    "        # local feature\n",
    "        if status == 4:\n",
    "            ExtractHVFeature(N_dataset[si],0,200,0,200,8,True,h,plHimage)\n",
    "            ExtractHVFeature(N_dataset[si],0,200,0,200,8,False,l,plVimage)\n",
    "            FX2.append(h+l)\n",
    "        # integrated feature\n",
    "        if status == 5:\n",
    "            hog = list(HOG(N_dataset[si]))\n",
    "            area = Area(N_dataset[si])\n",
    "            width = Width(N_dataset[si])\n",
    "            height = Height(N_dataset[si])\n",
    "            purewidth = PureWidth(N_dataset[si])\n",
    "            pureheight = PureHeight(N_dataset[si])\n",
    "            ExtractHVFeature(N_dataset[si],0,200,0,200,8,True,h,plHimage)\n",
    "            ExtractHVFeature(N_dataset[si],0,200,0,200,8,False,l,plVimage)\n",
    "            FX2.append(hog+[area]+[width]+[height]+[purewidth]+[pureheight]+h+l)\n",
    "        # HOG+Global\n",
    "        if status == 6:\n",
    "            hog = list(HOG(N_dataset[si]))\n",
    "            area = Area(N_dataset[si])\n",
    "            width = Width(N_dataset[si])\n",
    "            height = Height(N_dataset[si])\n",
    "            purewidth = PureWidth(N_dataset[si])\n",
    "            pureheight = PureHeight(N_dataset[si])\n",
    "            FX2.append(hog+[area]+[width]+[height]+[purewidth]+[pureheight])\n",
    "    scaler = MinMaxScaler()\n",
    "    FX2=scaler.fit_transform(FX2)\n",
    "    return FX2 "
   ]
  },
  {
   "cell_type": "code",
   "execution_count": 31,
   "metadata": {},
   "outputs": [
    {
     "name": "stderr",
     "output_type": "stream",
     "text": [
      "<ipython-input-24-33959d1eac05>:12: RuntimeWarning: invalid value encountered in longlong_scalars\n",
      "  CY=int(np.ceil(htotal/totalactivepixel))\n",
      "<ipython-input-24-33959d1eac05>:12: RuntimeWarning: invalid value encountered in longlong_scalars\n",
      "  CY=int(np.ceil(htotal/totalactivepixel))\n",
      "<ipython-input-24-33959d1eac05>:12: RuntimeWarning: invalid value encountered in longlong_scalars\n",
      "  CY=int(np.ceil(htotal/totalactivepixel))\n"
     ]
    }
   ],
   "source": [
    "HOG_F=np.array(ExtractFeature(1,N_dataset1,resized_dataset1))\n",
    "Global_F=np.array(ExtractFeature(2,N_dataset1,resized_dataset1))\n",
    "GL_F=np.array(ExtractFeature(3,N_dataset1,resized_dataset1))\n",
    "Local_F=np.array(ExtractFeature(4,N_dataset1,resized_dataset1))\n",
    "t_F=np.array(ExtractFeature(5,N_dataset1,resized_dataset1))\n",
    "HOG_G =np.array(ExtractFeature(6,N_dataset1,resized_dataset1))"
   ]
  },
  {
   "cell_type": "code",
   "execution_count": 43,
   "metadata": {},
   "outputs": [
    {
     "name": "stdout",
     "output_type": "stream",
     "text": [
      "(625, 200)\n",
      "(625, 5)\n",
      "(625, 65)\n",
      "(625, 60)\n",
      "(625, 265)\n",
      "(625, 205)\n"
     ]
    }
   ],
   "source": [
    "print(np.shape(HOG_F))\n",
    "print(np.shape(Global_F))\n",
    "print(np.shape(GL_F))\n",
    "print(np.shape(Local_F))\n",
    "print(np.shape(t_F))\n",
    "print(np.shape(HOG_G ))"
   ]
  },
  {
   "cell_type": "markdown",
   "metadata": {},
   "source": [
    "### Evaluate Nave Bayes,KNN,SVM\n",
    "#### k =1,2, 5,10,15,20,25"
   ]
  },
  {
   "cell_type": "code",
   "execution_count": 32,
   "metadata": {},
   "outputs": [],
   "source": [
    "def evaluate(LDAstatus,e,test_size,cls,clsname,X,Y):\n",
    "    foldacc = []\n",
    "    X=np.array(X)\n",
    "    Y=np.array(Y)\n",
    "    SSS = StratifiedShuffleSplit( test_size=test_size,random_state=10)\n",
    "    for train_index, test_index in SSS.split(X, Y):\n",
    "        if LDAstatus ==True:\n",
    "            lda = LDA(n_components=e)\n",
    "            x_train =lda.fit_transform(X[train_index], Y[train_index])\n",
    "            x_test = lda.transform(X[test_index])\n",
    "            cls.fit(x_train,Y[train_index])\n",
    "            yhat=cls.predict(x_test)\n",
    "        else:\n",
    "            cls.fit(X[train_index],Y[train_index])\n",
    "            yhat=cls.predict(X[test_index])\n",
    "        ntruepredict = len(np.where(Y[test_index]==yhat)[0])\n",
    "        ntotal = len(yhat)\n",
    "        foldacc.append(ntruepredict/ntotal)\n",
    "    print('accuracy for '+clsname+' : '+str(np.mean(foldacc))+\"+-\"+str(np.std(foldacc)))  \n",
    "    return np.mean(foldacc),np.std(foldacc)\n",
    "    "
   ]
  },
  {
   "cell_type": "code",
   "execution_count": 37,
   "metadata": {},
   "outputs": [],
   "source": [
    "def FeaturesClassifiersEvaluate(HOG_F,Global_F,GL_F,Local_F,HOG_G,t_F,L1):\n",
    "    L1=np.array(L1)\n",
    "    clsvm=svm.SVC()\n",
    "    k = [1,2,5,10,15,20,25]\n",
    "    # features => HOG\n",
    "    print('features => HOG')\n",
    "    evaluate(False,1,0.2,clsvm,\"SVM\",HOG_F,L1)\n",
    "    clsGNB=GaussianNB()\n",
    "    evaluate(False,1,0.2,clsGNB,\"Bayes\",HOG_F,L1)\n",
    "    for e in k:\n",
    "        clsKNN = KNeighborsClassifier(n_neighbors=e)\n",
    "        evaluate(False,1,0.2,clsKNN,\"KNN with k = \"+str(e),HOG_F,L1)\n",
    "    \n",
    "    # features => Global\n",
    "    print('features => Global')\n",
    "    clsvm=svm.SVC()\n",
    "    evaluate(False,1,0.2,clsvm,\"SVM\",Global_F,L1)\n",
    "    clsGNB=GaussianNB()\n",
    "    evaluate(False,1,0.2,clsGNB,\"Bayes\",Global_F,L1)\n",
    "    for e in k:\n",
    "        clsKNN = KNeighborsClassifier(n_neighbors=e)\n",
    "        evaluate(False,1,0.2,clsKNN,\"KNN with k = \"+str(e),Global_F,L1)\n",
    "\n",
    "\n",
    "    # features => Global and local feature\n",
    "    clsvm=svm.SVC()\n",
    "    print('features => Global and local feature')\n",
    "    evaluate(False,1,0.2,clsvm,\"SVM\",GL_F,L1)\n",
    "    clsGNB=GaussianNB()\n",
    "    evaluate(False,1,0.2,clsGNB,\"Bayes\",GL_F,L1)\n",
    "    for e in k:\n",
    "        clsKNN = KNeighborsClassifier(n_neighbors=e)\n",
    "        evaluate(False,1,0.2,clsKNN,\"KNN with k = \"+str(e),GL_F,L1)\n",
    "\n",
    "    # features => local feature\n",
    "    clsvm=svm.SVC()\n",
    "    print('features => local feature')\n",
    "    evaluate(False,1,0.2,clsvm,\"SVM\",Local_F,L1)\n",
    "    clsGNB=GaussianNB()\n",
    "    evaluate(False,1,0.2,clsGNB,\"Bayes\",Local_F,L1)\n",
    "    for e in k:\n",
    "        clsKNN = KNeighborsClassifier(n_neighbors=e)\n",
    "        evaluate(False,1,0.2,clsKNN,\"KNN with k = \"+str(e),Local_F,L1)\n",
    "    # features =>  HOG+ Global features\n",
    "    clsvm=svm.SVC()\n",
    "    print('features =>  HOG+Global')\n",
    "    evaluate(False,1,0.2,clsvm,\"SVM\",HOG_G,L1)\n",
    "    clsGNB=GaussianNB()\n",
    "    evaluate(False,1,0.2,clsGNB,\"Bayes\",HOG_G,L1)\n",
    "    for e in k:\n",
    "        clsKNN = KNeighborsClassifier(n_neighbors=e)\n",
    "        evaluate(False,1,0.2,clsKNN,\"KNN with k = \"+str(e),HOG_G,L1)\n",
    "    print('features =>  Features integrated')\n",
    "    clsvm=svm.SVC()\n",
    "    evaluate(False,1,0.2,clsvm,\"SVM\",t_F,L1)\n",
    "    clsGNB=GaussianNB()\n",
    "    evaluate(False,1,0.2,clsGNB,\"Bayes\",t_F,L1)\n",
    "    for e in k:\n",
    "        clsKNN = KNeighborsClassifier(n_neighbors=e)\n",
    "        evaluate(False,1,0.2,clsKNN,\"KNN with k = \"+str(e),t_F,L1)"
   ]
  },
  {
   "cell_type": "code",
   "execution_count": 38,
   "metadata": {},
   "outputs": [
    {
     "name": "stdout",
     "output_type": "stream",
     "text": [
      "features => HOG\n",
      "accuracy for SVM : 0.7864+-0.021481154531356083\n",
      "accuracy for Bayes : 0.23279999999999998+-0.029164361813693092\n",
      "accuracy for KNN with k = 1 : 0.8343999999999999+-0.03036840463376369\n",
      "accuracy for KNN with k = 2 : 0.7272+-0.01974234028680492\n",
      "accuracy for KNN with k = 5 : 0.6799999999999999+-0.01926655132606765\n",
      "accuracy for KNN with k = 10 : 0.5935999999999999+-0.044079927404658915\n",
      "accuracy for KNN with k = 15 : 0.5151999999999999+-0.05451752011968262\n",
      "accuracy for KNN with k = 20 : 0.46799999999999997+-0.04296975680638652\n",
      "accuracy for KNN with k = 25 : 0.3984+-0.03465025252433234\n",
      "features => Global\n",
      "accuracy for SVM : 0.1616+-0.0352\n",
      "accuracy for Bayes : 0.176+-0.02794279871451677\n",
      "accuracy for KNN with k = 1 : 0.18639999999999998+-0.018948350851723215\n",
      "accuracy for KNN with k = 2 : 0.17119999999999996+-0.0336\n",
      "accuracy for KNN with k = 5 : 0.18319999999999997+-0.019742340286804907\n",
      "accuracy for KNN with k = 10 : 0.1928+-0.0136\n",
      "accuracy for KNN with k = 15 : 0.17039999999999997+-0.02025438224187546\n",
      "accuracy for KNN with k = 20 : 0.152+-0.015594870951694345\n",
      "accuracy for KNN with k = 25 : 0.12400000000000003+-0.01088117640698836\n",
      "features => Global and local feature\n",
      "accuracy for SVM : 0.44720000000000004+-0.04373739818507727\n",
      "accuracy for Bayes : 0.4680000000000001+-0.03204996099841621\n",
      "accuracy for KNN with k = 1 : 0.5680000000000001+-0.039839678713563934\n",
      "accuracy for KNN with k = 2 : 0.5008000000000001+-0.04384700673934309\n",
      "accuracy for KNN with k = 5 : 0.4136+-0.03506337120129781\n",
      "accuracy for KNN with k = 10 : 0.31359999999999993+-0.0272\n",
      "accuracy for KNN with k = 15 : 0.2584000000000001+-0.0385414063054269\n",
      "accuracy for KNN with k = 20 : 0.2096+-0.03409164120426003\n",
      "accuracy for KNN with k = 25 : 0.1808+-0.022964320151051713\n",
      "features => local feature\n",
      "accuracy for SVM : 0.3944+-0.044835700061446576\n",
      "accuracy for Bayes : 0.4128+-0.022964320151051716\n",
      "accuracy for KNN with k = 1 : 0.5376000000000001+-0.03427885645700567\n",
      "accuracy for KNN with k = 2 : 0.45760000000000006+-0.03591991091302985\n",
      "accuracy for KNN with k = 5 : 0.37839999999999996+-0.036669333236370685\n",
      "accuracy for KNN with k = 10 : 0.30399999999999994+-0.041260150266328406\n",
      "accuracy for KNN with k = 15 : 0.25760000000000005+-0.025749563103089727\n",
      "accuracy for KNN with k = 20 : 0.2112+-0.019661129163911214\n",
      "accuracy for KNN with k = 25 : 0.17919999999999997+-0.024579666393179544\n",
      "features =>  HOG+Global\n",
      "accuracy for SVM : 0.7952+-0.019661129163911193\n",
      "accuracy for Bayes : 0.2272+-0.028442222135409888\n",
      "accuracy for KNN with k = 1 : 0.8552+-0.028722116913626014\n",
      "accuracy for KNN with k = 2 : 0.7607999999999999+-0.014510685717773655\n",
      "accuracy for KNN with k = 5 : 0.6991999999999999+-0.016857046004564367\n",
      "accuracy for KNN with k = 10 : 0.6207999999999999+-0.0464\n",
      "accuracy for KNN with k = 15 : 0.5336000000000001+-0.05085508824100102\n",
      "accuracy for KNN with k = 20 : 0.47040000000000004+-0.0413840549004082\n",
      "accuracy for KNN with k = 25 : 0.4136+-0.0472\n",
      "features =>  Features integrated\n",
      "accuracy for SVM : 0.7464+-0.028182263926093683\n",
      "accuracy for Bayes : 0.2192+-0.025600000000000005\n",
      "accuracy for KNN with k = 1 : 0.8200000000000001+-0.03341855771872866\n",
      "accuracy for KNN with k = 2 : 0.7152+-0.02976172038038125\n",
      "accuracy for KNN with k = 5 : 0.6727999999999998+-0.025158696309626197\n",
      "accuracy for KNN with k = 10 : 0.5471999999999999+-0.042513056817876545\n",
      "accuracy for KNN with k = 15 : 0.4728+-0.045600000000000016\n",
      "accuracy for KNN with k = 20 : 0.42400000000000004+-0.03468717342188608\n",
      "accuracy for KNN with k = 25 : 0.35359999999999997+-0.048504020451917186\n"
     ]
    }
   ],
   "source": [
    "FeaturesClassifiersEvaluate(HOG_F,Global_F,GL_F,Local_F,HOG_G,t_F,L1)"
   ]
  },
  {
   "cell_type": "markdown",
   "metadata": {},
   "source": [
    "### USE LDA for dimension reduction"
   ]
  },
  {
   "cell_type": "code",
   "execution_count": 41,
   "metadata": {},
   "outputs": [
    {
     "name": "stdout",
     "output_type": "stream",
     "text": [
      "HOG + Global features by component number=20\n",
      "accuracy for SVM : 0.8640000000000001+-0.027712812921102038\n",
      "accuracy for KNN with k = 1 : 0.8560000000000001+-0.027480902459708276\n",
      "accuracy for KNN with k = 2 : 0.8311999999999999+-0.029599999999999994\n",
      "accuracy for KNN with k = 5 : 0.8328000000000001+-0.03877318661136842\n",
      "HOG + Global features by component number=40\n",
      "accuracy for SVM : 0.9032000000000002+-0.02160000000000002\n",
      "accuracy for KNN with k = 1 : 0.8872+-0.024903011866037404\n",
      "accuracy for KNN with k = 2 : 0.8624+-0.028352072234670987\n",
      "accuracy for KNN with k = 5 : 0.8615999999999999+-0.030578423765786254\n",
      "HOG + Global features by component number=60\n",
      "accuracy for SVM : 0.9104000000000001+-0.02257077756746541\n",
      "accuracy for KNN with k = 1 : 0.8991999999999999+-0.025348767228407773\n",
      "accuracy for KNN with k = 2 : 0.8704000000000001+-0.0307349963396777\n",
      "accuracy for KNN with k = 5 : 0.8615999999999999+-0.02702295320648728\n",
      "HOG + Global features by component number=80\n",
      "accuracy for SVM : 0.9104000000000001+-0.023130931671681534\n",
      "accuracy for KNN with k = 1 : 0.8944000000000001+-0.021703455946000875\n",
      "accuracy for KNN with k = 2 : 0.8568+-0.03208987379221055\n",
      "accuracy for KNN with k = 5 : 0.8503999999999999+-0.030787010247830184\n",
      "HOG + Global features by component number=100\n",
      "accuracy for SVM : 0.9064+-0.025310867231290196\n",
      "accuracy for KNN with k = 1 : 0.8968+-0.019415457759218574\n",
      "accuracy for KNN with k = 2 : 0.8480000000000001+-0.02950254226333725\n",
      "accuracy for KNN with k = 5 : 0.8296000000000001+-0.02818226392609364\n",
      "HOG + Global features by component number=124\n",
      "accuracy for SVM : 0.9071999999999999+-0.02509501942617299\n",
      "accuracy for KNN with k = 1 : 0.8952+-0.02541180827882975\n",
      "accuracy for KNN with k = 2 : 0.8432000000000001+-0.029975990392312312\n",
      "accuracy for KNN with k = 5 : 0.8344000000000001+-0.0248\n",
      "HOG by component number=20\n",
      "accuracy for SVM : 0.8288+-0.04340691189200171\n",
      "accuracy for KNN with k = 1 : 0.8200000000000001+-0.033226495451672285\n",
      "accuracy for KNN with k = 2 : 0.7776+-0.029021371435547297\n",
      "accuracy for KNN with k = 5 : 0.7847999999999999+-0.050145388621487416\n",
      "HOG by component number=40\n",
      "accuracy for SVM : 0.8768+-0.026339324213046945\n",
      "accuracy for KNN with k = 1 : 0.8608+-0.02092271492899525\n",
      "accuracy for KNN with k = 2 : 0.8200000000000001+-0.0370513157661101\n",
      "accuracy for KNN with k = 5 : 0.8280000000000001+-0.033226495451672285\n",
      "HOG by component number=60\n",
      "accuracy for SVM : 0.8912000000000001+-0.022112439937736428\n",
      "accuracy for KNN with k = 1 : 0.8672000000000001+-0.022112439937736428\n",
      "accuracy for KNN with k = 2 : 0.8152000000000001+-0.02872211691362597\n",
      "accuracy for KNN with k = 5 : 0.8200000000000001+-0.0306202547344074\n",
      "HOG by component number=80\n",
      "accuracy for SVM : 0.8896000000000001+-0.014664242223858702\n",
      "accuracy for KNN with k = 1 : 0.868+-0.01485934049680538\n",
      "accuracy for KNN with k = 2 : 0.8064+-0.024212393520674464\n",
      "accuracy for KNN with k = 5 : 0.8016+-0.035741292645901875\n",
      "HOG by component number=100\n",
      "accuracy for SVM : 0.8832000000000001+-0.01483778959279314\n",
      "accuracy for KNN with k = 1 : 0.8664+-0.020567936211491923\n",
      "accuracy for KNN with k = 2 : 0.7904+-0.023405982141324465\n",
      "accuracy for KNN with k = 5 : 0.796+-0.0349170445484723\n",
      "HOG by component number=124\n",
      "accuracy for SVM : 0.8832000000000001+-0.01483778959279314\n",
      "accuracy for KNN with k = 1 : 0.8664+-0.020567936211491923\n",
      "accuracy for KNN with k = 2 : 0.7904+-0.023405982141324465\n",
      "accuracy for KNN with k = 5 : 0.796+-0.0349170445484723\n"
     ]
    }
   ],
   "source": [
    "component_list = [20,40,60,80,100,124]\n",
    "k = [1,2,5]\n",
    "for e in component_list:\n",
    "    print('HOG + Global features by component number='+str(e))\n",
    "    clsvm=svm.SVC()\n",
    "    evaluate(True,e,0.2,clsvm,\"SVM\",HOG_G,L1)\n",
    "    for h in k:\n",
    "        clsKNN = KNeighborsClassifier(n_neighbors=h)\n",
    "        evaluate(True,e,0.2,clsKNN,\"KNN with k = \"+str(h),HOG_G,L1)\n",
    "component_list = [20,40,60,80,100,124]\n",
    "k = [1,2,5]\n",
    "for e in component_list:\n",
    "    print('HOG by component number='+str(e))\n",
    "    clsvm=svm.SVC()\n",
    "    evaluate(True,e,0.2,clsvm,\"SVM\",HOG_F,L1)\n",
    "    for h in k:\n",
    "        clsKNN = KNeighborsClassifier(n_neighbors=h)\n",
    "        evaluate(True,e,0.2,clsKNN,\"KNN with k = \"+str(h),HOG_F,L1)"
   ]
  },
  {
   "cell_type": "markdown",
   "metadata": {},
   "source": [
    "### Varies distribution of test train\n",
    "#### # test =2 sign / #train = 3 sign\n",
    "#### # test =3 sign / #train = 2 sign\n"
   ]
  },
  {
   "cell_type": "code",
   "execution_count": 42,
   "metadata": {},
   "outputs": [
    {
     "name": "stdout",
     "output_type": "stream",
     "text": [
      "HOG+Global features by component number=60 ,test_size = 0.2\n",
      "accuracy for SVM : 0.9104000000000001+-0.02257077756746541\n",
      "accuracy for KNN with k = 1 : 0.8991999999999999+-0.025348767228407773\n",
      "accuracy for KNN with k = 2 : 0.8704000000000001+-0.0307349963396777\n",
      "accuracy for KNN with k = 5 : 0.8615999999999999+-0.02702295320648728\n",
      "HOG+Global features by component number=60 ,test_size = 0.4\n",
      "accuracy for SVM : 0.8436+-0.025200000000000007\n",
      "accuracy for KNN with k = 1 : 0.8443999999999999+-0.026740231861373236\n",
      "accuracy for KNN with k = 2 : 0.8099999999999999+-0.02072679425285056\n",
      "accuracy for KNN with k = 5 : 0.8039999999999999+-0.018066543665017917\n",
      "HOG+Global features by component number=60 ,test_size = 0.6\n",
      "accuracy for SVM : 0.5730666666666665+-0.026996625303503736\n",
      "accuracy for KNN with k = 1 : 0.5773333333333333+-0.028025385317997354\n",
      "accuracy for KNN with k = 2 : 0.5698666666666667+-0.02391243284244506\n",
      "accuracy for KNN with k = 5 : 0.3794666666666666+-0.023126319782158736\n"
     ]
    }
   ],
   "source": [
    "test_size = [0.2,0.4,0.6]\n",
    "K = [1,2,5]\n",
    "for e in test_size:\n",
    "    print('HOG+Global features by component number=60 ,test_size = '+str(e))\n",
    "    clsvm=svm.SVC()\n",
    "    evaluate(True,60,e,clsvm,\"SVM\",HOG_G,L1)\n",
    "    for k in K:\n",
    "        clsKNN = KNeighborsClassifier(n_neighbors=k)\n",
    "        evaluate(True,60,e,clsKNN,\"KNN with k = \"+str(k),HOG_G,L1)"
   ]
  },
  {
   "cell_type": "code",
   "execution_count": null,
   "metadata": {},
   "outputs": [],
   "source": []
  }
 ],
 "metadata": {
  "kernelspec": {
   "display_name": "Python 3",
   "language": "python",
   "name": "python3"
  },
  "language_info": {
   "codemirror_mode": {
    "name": "ipython",
    "version": 3
   },
   "file_extension": ".py",
   "mimetype": "text/x-python",
   "name": "python",
   "nbconvert_exporter": "python",
   "pygments_lexer": "ipython3",
   "version": "3.8.0"
  }
 },
 "nbformat": 4,
 "nbformat_minor": 4
}
